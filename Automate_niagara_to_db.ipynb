{
 "cells": [
  {
   "cell_type": "code",
   "execution_count": null,
   "metadata": {},
   "outputs": [],
   "source": [
    "# Required imports\n",
    "import re\n",
    "\n",
    "import hszinc\n",
    "from pyhaystack.client.niagara import Niagara4HaystackSession\n",
    "\n",
    "from app import config"
   ]
  },
  {
   "cell_type": "code",
   "execution_count": null,
   "metadata": {},
   "outputs": [],
   "source": [
    "# Creating a session\n",
    "session = Niagara4HaystackSession(\n",
    "    uri=config.NIAGARA4_SERVER,\n",
    "    username=config.NIAGARA4_USERNAME,\n",
    "    password=config.NIAGARA4_PASSWORD,\n",
    "    http_args=dict(tls_verify=False, debug=True),\n",
    "    pint=False,\n",
    ")\n",
    "session._grid_format = hszinc.MODE_ZINC"
   ]
  },
  {
   "cell_type": "code",
   "execution_count": null,
   "metadata": {},
   "outputs": [],
   "source": [
    "# Fetching Points\n",
    "points = session.find_entity(\"point\")\n",
    "point_results = points.result"
   ]
  },
  {
   "cell_type": "code",
   "execution_count": null,
   "metadata": {},
   "outputs": [],
   "source": [
    "# Total points\n",
    "print(len(point_results))\n",
    "point_values = list(point_results.values())"
   ]
  },
  {
   "cell_type": "code",
   "execution_count": null,
   "metadata": {},
   "outputs": [],
   "source": [
    "import pandas as pd\n",
    "df = pd.DataFrame(columns=[\"P_Id\",\"D_Id\",\"B_Id\",\"P_Tags\", \"P_CurrentValue\", \"P_Type\", \"P_TimeZone\", \"P_Unit\", \"B_Address\", \"B_Area\"])"
   ]
  },
  {
   "cell_type": "code",
   "execution_count": null,
   "metadata": {},
   "outputs": [],
   "source": [
    "def get_site(site_name: str):\n",
    "    \"\"\"\n",
    "    return a site by name\n",
    "    site_name example: S.~31430Broadway.elecMeter\n",
    "    \"\"\"\n",
    "    op = session.get_entity(site_name)\n",
    "    op.wait()\n",
    "    site = op.result\n",
    "    return site"
   ]
  },
  {
   "cell_type": "code",
   "execution_count": null,
   "metadata": {},
   "outputs": [],
   "source": [
    "def get_device_data(point_id: str, point_name: str):\n",
    "    device_id = point_id.split(f\".{point_name}\")[0]\n",
    "    device_dict = dict(D_Id = device_id)\n",
    "    try:\n",
    "        device_data = get_site(device_id)\n",
    "        building_id = device_id.split(f\".{device_data.tags.['navName']}\")[0]\n",
    "        building_data = get_site(building_id)\n",
    "        device_dict.update({\n",
    "            \"B_Id\":building_id,\n",
    "            \"B_Address\": building_data.tags.get(\"geoAddr\"),\n",
    "            \"B_Area\": building_data.tags.get(\"area\")\n",
    "            })                        \n",
    "    except Exception as error:\n",
    "        print(\"Error\")\n",
    "    return device_dict\n",
    "                                      "
   ]
  },
  {
   "cell_type": "code",
   "execution_count": null,
   "metadata": {},
   "outputs": [],
   "source": [
    "for point in point_values:\n",
    "    temp_dict = {\n",
    "            \"P_Id\": point._entity_id,\n",
    "            \"P_Tags\": point.tags,\n",
    "            \"P_CurrentValue\": point.tags.get(\"curVal\"),\n",
    "            \"P_Type\": point.tags.get(\"kind\"),\n",
    "            \"P_TimeZone\": point.tags.get(\"tz\"),\n",
    "            \"P_Unit\": point.tags.get(\"unit\")\n",
    "        }\n",
    "        \n",
    "    temp_dict.update(get_device_data(point._entity_id, point.tags.get(\"navName\")))\n",
    "    df = df.append(temp_dict, ignore_index = True)"
   ]
  },
  {
   "cell_type": "code",
   "execution_count": null,
   "metadata": {},
   "outputs": [],
   "source": [
    " df.head()"
   ]
  },
  {
   "cell_type": "code",
   "execution_count": null,
   "metadata": {},
   "outputs": [],
   "source": [
    "df.to_excel(\"niagara4_data.xlsx\", sheet_name=\"N4Data\", index=False)"
   ]
  }
 ],
 "metadata": {
  "kernelspec": {
   "display_name": "dave-energy",
   "language": "python",
   "name": "dave-energy"
  },
  "language_info": {
   "codemirror_mode": {
    "name": "ipython",
    "version": 3
   },
   "file_extension": ".py",
   "mimetype": "text/x-python",
   "name": "python",
   "nbconvert_exporter": "python",
   "pygments_lexer": "ipython3",
   "version": "3.7.5"
  }
 },
 "nbformat": 4,
 "nbformat_minor": 2
}
